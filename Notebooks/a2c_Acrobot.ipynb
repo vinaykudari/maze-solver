{
 "cells": [
  {
   "cell_type": "code",
   "execution_count": 1,
   "id": "81dfd30b",
   "metadata": {},
   "outputs": [],
   "source": [
    "# add parent directory to path: enable import from parent dir\n",
    "import sys\n",
    "sys.path.append('../')\n",
    "\n",
    "from environment import GridEnv\n",
    "from actor_critic import A2C\n",
    "from actor_nn import Actor\n",
    "from critic_nn import Critic\n",
    "from cnn import CNN\n",
    "\n",
    "from IPython.display import Video\n",
    "import numpy as np\n",
    "import matplotlib.pyplot as plt\n",
    "import torch.nn as nn\n",
    "import torch\n",
    "import gym"
   ]
  },
  {
   "cell_type": "code",
   "execution_count": 2,
   "id": "b10410b1",
   "metadata": {},
   "outputs": [],
   "source": [
    "env = gym.make(\"Acrobot-v1\")"
   ]
  },
  {
   "cell_type": "code",
   "execution_count": 3,
   "id": "45944b9b",
   "metadata": {},
   "outputs": [
    {
     "data": {
      "text/plain": [
       "3"
      ]
     },
     "execution_count": 3,
     "metadata": {},
     "output_type": "execute_result"
    }
   ],
   "source": [
    "env.action_space.n"
   ]
  },
  {
   "cell_type": "code",
   "execution_count": 4,
   "id": "aaed9691",
   "metadata": {},
   "outputs": [
    {
     "data": {
      "text/plain": [
       "Box([ -1.        -1.        -1.        -1.       -12.566371 -28.274334], [ 1.        1.        1.        1.       12.566371 28.274334], (6,), float32)"
      ]
     },
     "execution_count": 4,
     "metadata": {},
     "output_type": "execute_result"
    }
   ],
   "source": [
    "env.observation_space"
   ]
  },
  {
   "cell_type": "code",
   "execution_count": 5,
   "id": "89a7061e",
   "metadata": {},
   "outputs": [],
   "source": [
    "actor_model = Actor(state_dim=6, action_dim=env.action_space.n)\n",
    "critic_model = Critic(state_dim=6)\n",
    "a2c = A2C(\n",
    "    env=env, \n",
    "    actor=actor_model,\n",
    "    critic=critic_model,\n",
    "    n_actns=4,\n",
    "    actor_optmz=torch.optim.Adam(actor_model.parameters(), lr=0.001),\n",
    "    critic_optmz=torch.optim.Adam(critic_model.parameters(), lr=0.001),\n",
    "    hyprprms={\n",
    "        'gamma': 0.995,\n",
    "    },\n",
    "    log_freq=500,\n",
    ")"
   ]
  },
  {
   "cell_type": "code",
   "execution_count": 6,
   "id": "292442dc",
   "metadata": {},
   "outputs": [
    {
     "name": "stdout",
     "output_type": "stream",
     "text": [
      "Episode: 0, Loss: 0.5258757472038269, Avg. Reward: -327.0\n",
      "Episode: 500, Loss: 0.07833655178546906, Avg. Reward: -97.0\n",
      "Episode: 1000, Loss: 0.0741870328783989, Avg. Reward: -72.0\n",
      "Episode: 1500, Loss: 0.16348622739315033, Avg. Reward: -111.0\n",
      "Episode: 2000, Loss: 1.083519458770752, Avg. Reward: -156.0\n",
      "Episode: 2500, Loss: 0.21360844373703003, Avg. Reward: -74.0\n"
     ]
    }
   ],
   "source": [
    "a2c.run(3000)"
   ]
  },
  {
   "cell_type": "code",
   "execution_count": null,
   "id": "02a472ae",
   "metadata": {},
   "outputs": [],
   "source": [
    "a2c.evaluate()"
   ]
  },
  {
   "cell_type": "code",
   "execution_count": null,
   "id": "167940a5",
   "metadata": {},
   "outputs": [],
   "source": []
  }
 ],
 "metadata": {
  "kernelspec": {
   "display_name": "Python 3",
   "language": "python",
   "name": "python3"
  },
  "language_info": {
   "codemirror_mode": {
    "name": "ipython",
    "version": 3
   },
   "file_extension": ".py",
   "mimetype": "text/x-python",
   "name": "python",
   "nbconvert_exporter": "python",
   "pygments_lexer": "ipython3",
   "version": "3.6.7"
  }
 },
 "nbformat": 4,
 "nbformat_minor": 5
}
