{
 "cells": [
  {
   "cell_type": "code",
   "execution_count": 1,
   "id": "8ae9ae9e",
   "metadata": {},
   "outputs": [],
   "source": [
    "# add parent directory to path: enable import from parent dir\n",
    "import sys\n",
    "sys.path.append('../')\n",
    "\n",
    "from environment import GridEnv\n",
    "from sac_disc import SAC\n",
    "from policy_net import PolicyNetwork\n",
    "from q_net import QNetwork\n",
    "\n",
    "from IPython.display import Video\n",
    "import numpy as np\n",
    "import matplotlib.pyplot as plt\n",
    "import torch.nn as nn\n",
    "import torch"
   ]
  },
  {
   "cell_type": "code",
   "execution_count": 2,
   "id": "c242209f",
   "metadata": {},
   "outputs": [],
   "source": [
    "MAZE = np.array([\n",
    "    [ 1.,  0.,  1.,  1.],\n",
    "    [ 1.,  1.,  1.,  0.],\n",
    "    [ 0.,  0.,  1.,  1.],\n",
    "    [ 1.,  0.,  1.,  0.],\n",
    "])"
   ]
  },
  {
   "cell_type": "code",
   "execution_count": 3,
   "id": "122fba1a",
   "metadata": {},
   "outputs": [
    {
     "data": {
      "image/png": "[encoded data removed]",
      "text/plain": [
       "<Figure size 360x360 with 1 Axes>"
      ]
     },
     "metadata": {
      "needs_background": "light"
     },
     "output_type": "display_data"
    }
   ],
   "source": [
    "env = GridEnv(\n",
    "    maze=MAZE.copy(),\n",
    "    is_stochastic=False,\n",
    "    action_transitions={\n",
    "        'w': 1,\n",
    "        's': 1,\n",
    "        'd': 1,\n",
    "        'a': 1,\n",
    "    },\n",
    "    max_timesteps=200,\n",
    "    full_state=True,\n",
    ")"
   ]
  },
  {
   "cell_type": "code",
   "execution_count": 4,
   "id": "6f3413f6",
   "metadata": {
    "tags": []
   },
   "outputs": [],
   "source": [
    "sac = SAC(\n",
    "    env=env,\n",
    "    name='maze',\n",
    "    input_dim=env.n_states,\n",
    "    log_freq=20,\n",
    "    load_mdls=False,\n",
    "    hyprprms={\n",
    "        'mem_sz': 2500,\n",
    "        'bth_sz': 500,\n",
    "        'critic_sync_f': 2,\n",
    "    }\n",
    ")"
   ]
  },
  {
   "cell_type": "code",
   "execution_count": null,
   "id": "d25821a1",
   "metadata": {},
   "outputs": [
    {
     "name": "stdout",
     "output_type": "stream",
     "text": [
      "collecting experience...\n",
      "0..Episode: 20, Reward: -661.5000000000006, Avg. Reward: -286.89523809523837, Policy Loss=-1.09\n",
      "Episode: 40, Reward: -1252.3499999999985, Avg. Reward: -294.7756097560977, Policy Loss=0.64\n",
      "Episode: 60, Reward: -169.1999999999994, Avg. Reward: -440.89900000000046, Policy Loss=2.08\n",
      "Episode: 80, Reward: -169.1999999999994, Avg. Reward: -387.0090000000002, Policy Loss=4.83\n",
      "Episode: 100, Reward: -169.1999999999994, Avg. Reward: -247.96499999999958, Policy Loss=4.83\n",
      "Episode: 120, Reward: -169.1999999999994, Avg. Reward: -169.1999999999994, Policy Loss=4.83\n",
      "Episode: 140, Reward: -169.1999999999994, Avg. Reward: -169.1999999999994, Policy Loss=4.83\n",
      "Episode: 160, Reward: -169.1999999999994, Avg. Reward: -169.1999999999994, Policy Loss=4.83\n",
      "Episode: 180, Reward: -169.1999999999994, Avg. Reward: -169.1999999999994, Policy Loss=4.83\n"
     ]
    }
   ],
   "source": [
    "sac.run(1000)"
   ]
  },
  {
   "cell_type": "code",
   "execution_count": null,
   "id": "735d28b7-5542-4f77-a1ef-57db8f5685f1",
   "metadata": {},
   "outputs": [],
   "source": [
    "sac.evaluate()"
   ]
  },
  {
   "cell_type": "markdown",
   "id": "0182e992",
   "metadata": {},
   "source": [
    "#### Training"
   ]
  },
  {
   "cell_type": "code",
   "execution_count": null,
   "id": "b2c520cb",
   "metadata": {},
   "outputs": [],
   "source": [
    "fig, ax = plt.subplots(1, 2, figsize=(16, 8))\n",
    "\n",
    "total_rewards = [log['reward'] for _, log in sac.logs.items()]\n",
    "mean_rewards = sum(total_rewards)/len(total_rewards)\n",
    "ax[0].plot(range(len(total_rewards)), total_rewards)\n",
    "ax[0].text(0.5, 0.7, f'Average reward per episode: {round(mean_rewards, 2)}', transform=ax[0].transAxes, size='large')\n",
    "ax[0].set_title('Total reward per episode')\n",
    "\n",
    "cumulative_rewards = [log['avg_reward'] for _, log in sac.logs.items()]\n",
    "ax[1].plot(range(len(total_rewards)), cumulative_rewards)\n",
    "ax[1].set_title('Average reward per episode')"
   ]
  },
  {
   "cell_type": "markdown",
   "id": "7eb3f168-a1bf-4cff-a50b-2cae5f7a3221",
   "metadata": {},
   "source": [
    "### Evaluation"
   ]
  },
  {
   "cell_type": "code",
   "execution_count": null,
   "id": "dd7770e6-eeb4-41a6-85bc-b9827c13588e",
   "metadata": {},
   "outputs": [],
   "source": [
    "fig, ax = plt.subplots(1, 2, figsize=(16, 8))\n",
    "\n",
    "total_rewards = [log['reward'] for _, log in sac.eval_logs.items()]\n",
    "mean_rewards = sum(total_rewards)/len(total_rewards)\n",
    "ax[0].plot(range(50), total_rewards)\n",
    "ax[0].text(0.5, 0.7, f'Average reward per episode: {round(mean_rewards, 2)}', transform=ax[0].transAxes, size='large')\n",
    "ax[0].set_title('Total reward per episode')"
   ]
  },
  {
   "cell_type": "code",
   "execution_count": null,
   "id": "35d36687-fbf6-4c7a-95b1-2bab08983049",
   "metadata": {},
   "outputs": [],
   "source": []
  }
 ],
 "metadata": {
  "kernelspec": {
   "display_name": "Python 3 (ipykernel)",
   "language": "python",
   "name": "python3"
  },
  "language_info": {
   "codemirror_mode": {
    "name": "ipython",
    "version": 3
   },
   "file_extension": ".py",
   "mimetype": "text/x-python",
   "name": "python",
   "nbconvert_exporter": "python",
   "pygments_lexer": "ipython3",
   "version": "3.9.7"
  }
 },
 "nbformat": 4,
 "nbformat_minor": 5
}
